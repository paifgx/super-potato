{
  "cells": [
    {
      "cell_type": "code",
      "execution_count": 3,
      "metadata": {},
      "outputs": [
        {
          "name": "stdout",
          "output_type": "stream",
          "text": [
            "RMSE (100k USD): 0.736\n",
            "R^2: 0.586\n",
            "Artifacts saved to ./model/\n"
          ]
        },
        {
          "name": "stderr",
          "output_type": "stream",
          "text": [
            "/home/vscode/.local/lib/python3.11/site-packages/sklearn/metrics/_regression.py:492: FutureWarning: 'squared' is deprecated in version 1.4 and will be removed in 1.6. To calculate the root mean squared error, use the function'root_mean_squared_error'.\n",
            "  warnings.warn(\n"
          ]
        }
      ],
      "source": [
        "# Training and export for exactly 9 features\n",
        "# - Output target is Median House Value in 100k USD (per dataset definition)\n",
        "# - API will multiply predictions by 100_000 to report USD\n",
        "\n",
        "from sklearn.datasets import fetch_california_housing\n",
        "import numpy as np\n",
        "\n",
        "# 1. Load data and build engineered features\n",
        "housing = fetch_california_housing(as_frame=True)\n",
        "df = housing.frame.rename(\n",
        "    columns={\n",
        "        \"MedInc\": \"MedInc\",\n",
        "        \"HouseAge\": \"HouseAge\",\n",
        "        \"AveRooms\": \"AveRooms\",\n",
        "        \"AveBedrms\": \"AveBedrms\",\n",
        "        \"Population\": \"Population\",\n",
        "        \"AveOccup\": \"AveOccup\",\n",
        "        \"Latitude\": \"Latitude\",\n",
        "        \"Longitude\": \"Longitude\",\n",
        "    }\n",
        ")\n",
        "\n",
        "df[\"RoomsPerPerson\"] = df[\"AveRooms\"] / df[\"AveOccup\"]\n",
        "df[\"BedrmRoomRatio\"] = df[\"AveBedrms\"] / df[\"AveRooms\"]\n",
        "df[\"LogPopulation\"] = np.log1p(df[\"Population\"])\n",
        "\n",
        "# Target (in 100k USD)\n",
        "y = housing.target\n",
        "\n",
        "# Exact 9-feature set\n",
        "features_for_model = [\n",
        "    \"MedInc\",\n",
        "    \"HouseAge\",\n",
        "    \"AveRooms\",\n",
        "    \"AveBedrms\",\n",
        "    \"Population\",\n",
        "    \"AveOccup\",\n",
        "    \"RoomsPerPerson\",\n",
        "    \"BedrmRoomRatio\",\n",
        "    \"LogPopulation\",\n",
        "]\n",
        "X = df[features_for_model].copy()\n",
        "\n",
        "# 2. Split & scale\n",
        "from sklearn.model_selection import train_test_split\n",
        "from sklearn.preprocessing import StandardScaler\n",
        "\n",
        "X_train, X_test, y_train, y_test = train_test_split(\n",
        "    X, y, test_size=0.20, random_state=42\n",
        ")\n",
        "\n",
        "scaler = StandardScaler()\n",
        "X_train_scaled = scaler.fit_transform(X_train)\n",
        "X_test_scaled = scaler.transform(X_test)\n",
        "\n",
        "# 3. Train baseline model (Linear Regression for v1)\n",
        "from sklearn.linear_model import LinearRegression\n",
        "from sklearn.metrics import mean_squared_error, r2_score\n",
        "\n",
        "model = LinearRegression()\n",
        "model.fit(X_train_scaled, y_train)\n",
        "\n",
        "y_pred = model.predict(X_test_scaled)\n",
        "rmse = mean_squared_error(y_test, y_pred, squared=False)\n",
        "r2 = r2_score(y_test, y_pred)\n",
        "\n",
        "print(f\"RMSE (100k USD): {rmse:.3f}\")\n",
        "print(f\"R^2: {r2:.3f}\")\n",
        "\n",
        "# 4. Persist artifacts\n",
        "import joblib, os, json\n",
        "os.makedirs(\"model\", exist_ok=True)\n",
        "joblib.dump(model, \"model/housing_model.pkl\")\n",
        "joblib.dump(scaler, \"model/scaler.pkl\")\n",
        "\n",
        "with open(\"model/feature_order.json\", \"w\", encoding=\"utf-8\") as f:\n",
        "    json.dump(features_for_model, f)\n",
        "\n",
        "print(\"Artifacts saved to ./model/\")\n"
      ]
    }
  ],
  "metadata": {
    "kernelspec": {
      "display_name": "Python 3",
      "language": "python",
      "name": "python3"
    },
    "language_info": {
      "codemirror_mode": {
        "name": "ipython",
        "version": 3
      },
      "file_extension": ".py",
      "mimetype": "text/x-python",
      "name": "python",
      "nbconvert_exporter": "python",
      "pygments_lexer": "ipython3",
      "version": "3.11.13"
    }
  },
  "nbformat": 4,
  "nbformat_minor": 2
}
